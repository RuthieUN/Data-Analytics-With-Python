{
 "cells": [
  {
   "cell_type": "markdown",
   "id": "2e4f49db-44bb-43d1-96a6-3c0aaaab4782",
   "metadata": {},
   "source": [
    "# Assignment 2: Software Setup"
   ]
  },
  {
   "cell_type": "markdown",
   "id": "b3d412bb-4f1c-4490-9d09-77a2606815d3",
   "metadata": {},
   "source": [
    "## Learning Objectives\n",
    "This lesson meets the following learning objectives:\n",
    "\n",
    "- Learn to navigate tools that support computer programming for data analytics with Python\n",
    "\n",
    "You will meet these objective by installing Anaconda, one of the most popular tools for data science using Python."
   ]
  },
  {
   "cell_type": "markdown",
   "id": "5d95fd29-e959-46b9-826c-8372d9b5f2d9",
   "metadata": {
    "tags": []
   },
   "source": [
    "## Instructions\n",
    "Read through all of the text in this page.  Section headers with icons have special meanings:  \n",
    "\n",
    "- <i class=\"fas fa-puzzle-piece\"></i> The puzzle icon indicates that the section provides a practice exercise that must be completed.  Follow the instructions for the exercise and do what it asks.  Exercises must be turned in for credit.\n",
    "- <i class=\"fa fa-cogs\"></i> The cogs icon indicates that the section provides a task to perform.  Follow the instructions to complete the task.  Tasks are not turned in for credit but must be completed to continue progress.\n",
    "\n",
    "Review the list of items in the **Expected Outcomes** section to check that you feel comfortable with the material you just learned. If you do not, then take some time to re-review that material again. If after re-review you are not comfortable, do not feel confident or do not understand the material, please ask questions on Slack to help.\n",
    "\n",
    "Follow the instructions in the **What to turn in** section to turn in the exercises of the assginment for course credit."
   ]
  },
  {
   "cell_type": "markdown",
   "id": "15d7c554-7e35-48d1-b30b-34d342511ca0",
   "metadata": {},
   "source": [
    "## Background\n",
    "For this course we need to have the Python interpreter installed. Additionally, we will also use popular 3rd-party libraries that have been created for Python.  To make this easy we will use the software package Anaconda, which make it easy for us to manage Python on our local machines.  Instructions are provided below for three operating systems: Windows, OS X and Ubuntu.  Follow the instructions that match the machine you are using."
   ]
  },
  {
   "cell_type": "markdown",
   "id": "fcf301a7-c9e0-41ae-a44b-41acd786e2c7",
   "metadata": {},
   "source": [
    "## <i class=\"fa fa-cogs\"></i> Download this Notebook\n",
    "This notebook contains formatting and interactive cells that will not work when viewing on GitHub. Before proceeding, perform the following:\n",
    "\n",
    "1. Download this notebook by right-clicking on the <kbd>Raw</kbd> button and select \"Save link as\". Save it in your home directory on your local computer. \n",
    "2. Open the Anaconda Navigator\n",
    "3. Launch JupyterLab\n",
    "4. Find this notebook on your machine via the JupyterLab file browser and open it.\n",
    "5. Continue in the local copy of this notebook there."
   ]
  },
  {
   "cell_type": "markdown",
   "id": "f74696d2-3469-4934-a901-629d1732a1e9",
   "metadata": {
    "jp-MarkdownHeadingCollapsed": true,
    "tags": []
   },
   "source": [
    "## <i class=\"fa fa-cogs\"></i> Install Slack\n",
    "This class has a dedicated [Slack](https://slack.com/) workspace where you can ask questions of fellow students and the instructor.  You can login and use the online web-based verison of Slack, but communication improves if you have Slack installed on both your phone and your laptop/desktop computer.  Consider installing on these devices. You can follow instructions here:  \n",
    "\n",
    "### For the Computer\n",
    "- Windows:  https://slack.com/downloads/windows\n",
    "- OS X (Mac): https://slack.com/downloads/mac\n",
    "- Linux: https://slack.com/downloads/linux\n",
    "\n",
    "### For the phone\n",
    "- Android: https://slack.com/downloads/android\n",
    "- iPhone: https://slack.com/downloads/ios\n",
    "\n",
    "### Practice with Slack \n",
    "If you have never used Slack before, take some time to review the [online documentation](https://slack.com/help/articles/360059928654-How-to-use-Slack--your-quick-start-guide). If you are familiar with Microsoft Teams, or Discord you will find some similarities.  "
   ]
  },
  {
   "cell_type": "markdown",
   "id": "6f00c5e9-cf28-4a64-a096-534617dbc8fa",
   "metadata": {},
   "source": [
    "## <i class=\"fa fa-cogs\"></i> Install Anaconda\n",
    "The [Anaconda website](https://www.anaconda.com/) says this:\n",
    "\n",
    "> Anaconda offers the easiest way to perform Python/R data science and machine learning on a single machine. Start working with thousands of open-source packages and libraries today.\n",
    "\n",
    "We will be using Anaconda to install Python and Jupyter notebooks for this course.  Follow the instructions below that match the computer operating system that you will be using for this class.\n",
    "\n",
    "### Install Anaconda on Windows\n",
    "**Step 1**: These instructions assume Windows 10.\n",
    "\n",
    "**Step 2**: Download the Anaconda 3.9 installer for Windows at https://www.anaconda.com/download/#windows.  \n",
    "\n",
    "**Step 3**: Double click the installer for Python 3.9 to launch.  \n",
    "\n",
    "**Step 4**: View and accept the license terms.\n",
    "\n",
    "**Step 5**: Select and install for “Just Me”.\n",
    "\n",
    "**Step 6**: Accept the default installation location.\n",
    "\n",
    "**Step 7**: Do not select “Add Anaconda to my PATH environment variable.”\n",
    "\n",
    "**Step 8**: Do select “Register Anaconda as my default Python 3.8.”\n",
    "\n",
    "**Step 9**: Click “Install”.\n",
    "\n",
    "**Step 10**: Skip installing VS Code when asked.\n",
    "\n",
    "**Step 11**: After installation you will have three new installed tools:  Anaconda Navigator, Spyder and Jupyter \n",
    "Notebook.\n",
    "\n",
    "**Step 12**: Confirm the installation by opening Anaconda Navigator. If navigator opens you have been successfull, otherwise contact an instructor for help.\n"
   ]
  },
  {
   "cell_type": "markdown",
   "id": "34e79e40-428b-4c62-9d4c-e2fd3d222df0",
   "metadata": {},
   "source": [
    "### Install Anaconda on Ubuntu Linux\n",
    "This assumes an x86 system. While these instructions should work for most Linux distributions, for this class we can only support Ubuntu LTS releases\n",
    "\n",
    "**Step 1**: Download the Anaconda 3.9 installer for Linux from https://www.anaconda.com/download/#linux \n",
    "\n",
    "**Step 2**: Run the downloaded installer fileby entering the following command\n",
    "\n",
    "```bash\n",
    "bash ~/Downloads/Anaconda3-2022.10-Linux-x86_64.sh\n",
    "```\n",
    "\n",
    "If you did not download the installer to your `Downloads` directory, replace `~/Downloads/` above with the path where you downloaded the file. During installation, choose “Install Anaconda as a user”.\n",
    "\n",
    "**Step 3**: View and accept the license terms\n",
    "\n",
    "**Step 4**: Accept the default installation location\n",
    "\n",
    "**Step 5**: The installer prompts “Do you wish the installer to prepend the Anaconda3 install location to PATH in your `/home/<user>/.bashrc` ?” Enter Yes\n",
    "\n",
    "**Step 6**: The installer will then ask if you would like to install VS Code. This is a text editor, select No. This program can be installed later if you desire\n",
    "\n",
    "**Step 7**: The installer should finish and display “Thank you for installing Anaconda3!”\n",
    "\n",
    "**Step 8**: Close and open your terminal window, or, use the command source ~/.bashrc for the installation to take effect.\n",
    "\n",
    "**Step 9**: Confirm the installation by typing anaconda-navigator into a terminal window. If navigator opens the installation was successful, otherwise contact the instructor or another student for help."
   ]
  },
  {
   "cell_type": "markdown",
   "id": "1fc36f5b-f279-4a59-9bf5-822ee85610f6",
   "metadata": {},
   "source": [
    "### Install Anaconda on OS X (Apple Mac)\n",
    "**Step 1**: These instructions assume a recent MacOS version, High Sierra or newer.\n",
    "\n",
    "**Step 2**: Download the Anaconda 3.9 installer for MacOS: https://www.anaconda.com/downloads#macos \n",
    "\n",
    "**Step 3**: Double click the installer to launch.\n",
    "\n",
    "**Step 4**: View and accept the license terms.\n",
    "\n",
    "**Step 5**: Select an install for your home user directory.\n",
    "\n",
    "**Step 6**: Select continue to install Anaconda.\n",
    "\n",
    "**Step 7**: Skip installing VS Code for now.\n",
    "\n",
    "**Step 8**: Confirm the installation by opening Anaconda Navigator. If navigator opens you have been successful, otherwise contact an instructor for help.\n"
   ]
  },
  {
   "cell_type": "markdown",
   "id": "2ec647dc-3fad-4ca5-9342-6929e1235564",
   "metadata": {},
   "source": [
    "## <i class=\"fa fa-cogs\"></i>  Launch Jupyterlab\n",
    "Now that you have Anaconda Installed you should be able to easily launch JupyterLab.  There are two ways that you can use to open JupyterLab:\n",
    "\n",
    "- Using the Anaconda Navigator\n",
    "- Using the command-line\n",
    "\n",
    "We will learn to use the command-line in the [Assignment 3](./A03-Command-line.ipynb), so for now, lets learn to launch JupyterLab using the Anaconda Navigator.  Look for the Anaconda Prompt software application in your computer's application browser and launch it.  \n",
    "\n",
    "<img src=\"./media/A02-Anaconda_Navigator.png\" />\n",
    "\n",
    "Your version of the Anaconda Navigator may look slightly different. Click the <kdb>Launch</kdb> button inside of the JupyterLab swatch.  A new tab will automatically open in your web browser.  In the left sidebar you should see the files and folder of your home directory on your computer."
   ]
  },
  {
   "cell_type": "markdown",
   "id": "11b64f16-aa49-4d76-9cfc-a8574498c41a",
   "metadata": {},
   "source": [
    "## Expected Outcomes\n",
    "At this point, you should feel comfortable with the following:\n",
    "\n",
    "1. Opening Anaconda Navigator \n",
    "2. Launching JupyterLab \n",
    "3. Accessing Slack and posting public and private messages (either via the web browser, computer or phone)."
   ]
  },
  {
   "cell_type": "markdown",
   "id": "2203c83b-0540-48d6-a3e5-38797eaf18f5",
   "metadata": {},
   "source": [
    "## What to Turn in?\n",
    "This assignment has no practice exercises. There is nothing to turn in.   \n",
    "\n",
    "***Note***: You will not be able to proceed in the course if all of the tasks are not completed. Make sure they are done and all is functional."
   ]
  }
 ],
 "metadata": {
  "kernelspec": {
   "display_name": "Python 3 (ipykernel)",
   "language": "python",
   "name": "python3"
  },
  "language_info": {
   "codemirror_mode": {
    "name": "ipython",
    "version": 3
   },
   "file_extension": ".py",
   "mimetype": "text/x-python",
   "name": "python",
   "nbconvert_exporter": "python",
   "pygments_lexer": "ipython3",
   "version": "3.9.7"
  }
 },
 "nbformat": 4,
 "nbformat_minor": 5
}
